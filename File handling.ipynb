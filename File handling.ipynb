{
 "cells": [
  {
   "cell_type": "code",
   "execution_count": 1,
   "id": "9a30ad08",
   "metadata": {},
   "outputs": [],
   "source": [
    "# r: read operation\n",
    "# w: write operation\n",
    "# a: append operation\n",
    "# r+ : read and write the previous data will not be deleted\n",
    "# w+ : To write and read. Overrite. Previous data will be deleted.\n",
    "# a+ : append and read the data .Not overrite"
   ]
  },
  {
   "cell_type": "code",
   "execution_count": 11,
   "id": "4e39e18d",
   "metadata": {},
   "outputs": [],
   "source": [
    "# open() : to open the file\n",
    "\n",
    "file=open(\"abc.txt\")"
   ]
  },
  {
   "cell_type": "code",
   "execution_count": 13,
   "id": "2f08c644",
   "metadata": {},
   "outputs": [
    {
     "data": {
      "text/plain": [
       "<_io.TextIOWrapper name='abc.txt' mode='r' encoding='cp1252'>"
      ]
     },
     "execution_count": 13,
     "metadata": {},
     "output_type": "execute_result"
    }
   ],
   "source": [
    "file"
   ]
  },
  {
   "cell_type": "code",
   "execution_count": 17,
   "id": "ea3f7a08",
   "metadata": {},
   "outputs": [
    {
     "data": {
      "text/plain": [
       "''"
      ]
     },
     "execution_count": 17,
     "metadata": {},
     "output_type": "execute_result"
    }
   ],
   "source": [
    "# read() -- to read the file\n",
    "\n",
    "file.read()"
   ]
  },
  {
   "cell_type": "code",
   "execution_count": 18,
   "id": "398672d1",
   "metadata": {},
   "outputs": [
    {
     "data": {
      "text/plain": [
       "'Chhatrapati Shivaji:-\\n'"
      ]
     },
     "execution_count": 18,
     "metadata": {},
     "output_type": "execute_result"
    }
   ],
   "source": [
    "# readline() -- to read the file line by line\n",
    "\n",
    "file=open(\"abc.txt\")             #need to give file name\n",
    "\n",
    "# double \\\\ backward slash or single forward slash/\n",
    "file.readline() "
   ]
  },
  {
   "cell_type": "code",
   "execution_count": 20,
   "id": "963b7e75",
   "metadata": {},
   "outputs": [
    {
     "data": {
      "text/plain": [
       "'\\n'"
      ]
     },
     "execution_count": 20,
     "metadata": {},
     "output_type": "execute_result"
    }
   ],
   "source": [
    "# if we run again..cursor will move to second line\n",
    "\n",
    "file.readline()"
   ]
  },
  {
   "cell_type": "code",
   "execution_count": 21,
   "id": "ba251b89",
   "metadata": {},
   "outputs": [
    {
     "data": {
      "text/plain": [
       "'\\nMaharana Pratap:-\\nM'"
      ]
     },
     "execution_count": 21,
     "metadata": {},
     "output_type": "execute_result"
    }
   ],
   "source": [
    "file.read(20)"
   ]
  },
  {
   "cell_type": "code",
   "execution_count": 23,
   "id": "513a454d",
   "metadata": {},
   "outputs": [
    {
     "data": {
      "text/plain": [
       "'Chhatrapati Shivaji:'"
      ]
     },
     "execution_count": 23,
     "metadata": {},
     "output_type": "execute_result"
    }
   ],
   "source": [
    "file=open(\"abc.txt\",'r')          #read mode ,'r'  \n",
    "file.read(20)"
   ]
  },
  {
   "cell_type": "code",
   "execution_count": 24,
   "id": "3d531eca",
   "metadata": {},
   "outputs": [],
   "source": [
    "file=open(\"abc.txt\",'w')       #write mode,'w'-- it overrites..deletees the previous and write new data"
   ]
  },
  {
   "cell_type": "code",
   "execution_count": 25,
   "id": "1b1e126b",
   "metadata": {},
   "outputs": [
    {
     "data": {
      "text/plain": [
       "44"
      ]
     },
     "execution_count": 25,
     "metadata": {},
     "output_type": "execute_result"
    }
   ],
   "source": [
    "# write() -- to write into file. It ovverrites if opened in write mode.\n",
    "file.write(\"I am writing new file in my old file\")\n",
    "file.write(\"This is further to above line\")\n",
    "file.write(\"I am adding one more line in my current file\")  #shows the no of characters in last line."
   ]
  },
  {
   "cell_type": "code",
   "execution_count": 26,
   "id": "344de3bf",
   "metadata": {},
   "outputs": [],
   "source": [
    "# close() -- To close the file\n",
    "file.close()"
   ]
  },
  {
   "cell_type": "code",
   "execution_count": 28,
   "id": "4956f2a8",
   "metadata": {},
   "outputs": [
    {
     "data": {
      "text/plain": [
       "'I am writing new file in my old fileThis is further to above lineI am adding one more line in my current file'"
      ]
     },
     "execution_count": 28,
     "metadata": {},
     "output_type": "execute_result"
    }
   ],
   "source": [
    "file=open(\"abc.txt\",'r')              \n",
    "file.read()               \n"
   ]
  },
  {
   "cell_type": "code",
   "execution_count": 29,
   "id": "1624f49b",
   "metadata": {},
   "outputs": [],
   "source": [
    "file=open(\"abc.txt\",'a')           #adds new lines with previous lines."
   ]
  },
  {
   "cell_type": "code",
   "execution_count": 30,
   "id": "323bd45c",
   "metadata": {},
   "outputs": [
    {
     "data": {
      "text/plain": [
       "16"
      ]
     },
     "execution_count": 30,
     "metadata": {},
     "output_type": "execute_result"
    }
   ],
   "source": [
    "file.write(\"I am writing new file in my old file \\n\")            #'\\n' for next line.\n",
    "file.write(\"One more line is added \\n\")\n",
    "file.write(\"New line added \\n\")\n",
    "# 16...........shows the number of characters in last line."
   ]
  },
  {
   "cell_type": "code",
   "execution_count": 31,
   "id": "237337b1",
   "metadata": {},
   "outputs": [],
   "source": [
    "file.close()"
   ]
  },
  {
   "cell_type": "code",
   "execution_count": 33,
   "id": "d70e3162",
   "metadata": {},
   "outputs": [
    {
     "data": {
      "text/plain": [
       "'I am writing new file in my old fileThis is further to above lineI am adding one more line in my current fileI am writing new file in my old file \\nOne more line is added \\nNew line added \\n'"
      ]
     },
     "execution_count": 33,
     "metadata": {},
     "output_type": "execute_result"
    }
   ],
   "source": [
    "file=open(\"abc.txt\",'r+')         #does not overrite in 'r+' mode.\n",
    "file.read()"
   ]
  },
  {
   "cell_type": "code",
   "execution_count": 34,
   "id": "6819e46a",
   "metadata": {},
   "outputs": [
    {
     "data": {
      "text/plain": [
       "31"
      ]
     },
     "execution_count": 34,
     "metadata": {},
     "output_type": "execute_result"
    }
   ],
   "source": [
    "file.write(\"I am adding new data \\n\")\n",
    "file.write(\"I want to understand w and r+ \\n\")"
   ]
  },
  {
   "cell_type": "code",
   "execution_count": 35,
   "id": "f99ed2ae",
   "metadata": {},
   "outputs": [],
   "source": [
    "file.close()"
   ]
  },
  {
   "cell_type": "code",
   "execution_count": 36,
   "id": "14ac925e",
   "metadata": {},
   "outputs": [],
   "source": [
    "file=open(\"abc.txt\",'w+')         #Overrite in 'w+' mode."
   ]
  },
  {
   "cell_type": "code",
   "execution_count": 37,
   "id": "338d06d2",
   "metadata": {},
   "outputs": [
    {
     "data": {
      "text/plain": [
       "37"
      ]
     },
     "execution_count": 37,
     "metadata": {},
     "output_type": "execute_result"
    }
   ],
   "source": [
    "file.write(\"I am adding w+ \\n\")                                 \n",
    "file.write(\"I want to understand what is right. \\n\")"
   ]
  },
  {
   "cell_type": "code",
   "execution_count": 38,
   "id": "d75b567b",
   "metadata": {},
   "outputs": [
    {
     "data": {
      "text/plain": [
       "''"
      ]
     },
     "execution_count": 38,
     "metadata": {},
     "output_type": "execute_result"
    }
   ],
   "source": [
    "file.readline()       "
   ]
  },
  {
   "cell_type": "code",
   "execution_count": 39,
   "id": "4f3fe12c",
   "metadata": {},
   "outputs": [],
   "source": [
    "file.close()"
   ]
  },
  {
   "cell_type": "code",
   "execution_count": 42,
   "id": "210aed09",
   "metadata": {},
   "outputs": [
    {
     "name": "stdin",
     "output_type": "stream",
     "text": [
      "Enter a no 4\n",
      "Enter a no 2\n"
     ]
    },
    {
     "name": "stdout",
     "output_type": "stream",
     "text": [
      "2.0\n"
     ]
    }
   ],
   "source": [
    "num1=int(input(\"Enter a no\"))\n",
    "num2=int(input(\"Enter a no\"))\n",
    "result=num1/num2                     #this piece of code will give error.\n",
    "print(result)\n",
    "\n",
    "# showing error on dividing by 0"
   ]
  },
  {
   "cell_type": "code",
   "execution_count": 44,
   "id": "06db852b",
   "metadata": {},
   "outputs": [
    {
     "data": {
      "text/plain": [
       "'C:\\\\Users\\\\Dushyant Sharma\\\\ML (Projects)'"
      ]
     },
     "execution_count": 44,
     "metadata": {},
     "output_type": "execute_result"
    }
   ],
   "source": [
    "# getcwd-get current working directory\n",
    "import os\n",
    "os.getcwd()"
   ]
  },
  {
   "cell_type": "markdown",
   "id": "31f60c7b",
   "metadata": {},
   "source": [
    "# Exception handling"
   ]
  },
  {
   "cell_type": "code",
   "execution_count": 47,
   "id": "07447c9a",
   "metadata": {},
   "outputs": [
    {
     "name": "stdin",
     "output_type": "stream",
     "text": [
      "Enter a no : 6\n",
      "Enter a no : 0\n"
     ]
    },
    {
     "name": "stdout",
     "output_type": "stream",
     "text": [
      "Cannot be divided by zero\n"
     ]
    }
   ],
   "source": [
    "# try -- We write that piece of code that will give us error.\n",
    "# except -- \n",
    "num1=int(input(\"Enter a no :\"))\n",
    "num2=int(input(\"Enter a no :\"))\n",
    "try:\n",
    "    result=num1/num2          #error will be thrown from here.Error created from here.\n",
    "    print(result)\n",
    "except ZeroDivisionError:    #error will be catch by this block.\n",
    "#Asks to ignore error and print the message instead of throwing an error.\n",
    "        print(\"Cannot be divided by zero\")"
   ]
  },
  {
   "cell_type": "code",
   "execution_count": 48,
   "id": "758b30d0",
   "metadata": {},
   "outputs": [
    {
     "name": "stdin",
     "output_type": "stream",
     "text": [
      "Enter a no : 4\n",
      "Enter a no : a\n"
     ]
    },
    {
     "name": "stdout",
     "output_type": "stream",
     "text": [
      "Cannot be divided\n"
     ]
    }
   ],
   "source": [
    "num1=input(\"Enter a no :\")\n",
    "num2=input(\"Enter a no :\")\n",
    "try:\n",
    "    result=int(num1)/int(num2)          #error will be thrown from here.\n",
    "    #Error created from here.Mention 'int' here.\n",
    "    print(result)\n",
    "except Exception:                  #all the exceptions included\n",
    "    print(\"Cannot be divided\")"
   ]
  },
  {
   "cell_type": "code",
   "execution_count": 49,
   "id": "aa6abf00",
   "metadata": {},
   "outputs": [
    {
     "name": "stdin",
     "output_type": "stream",
     "text": [
      "Enter a no : 9\n",
      "Enter a no : a\n"
     ]
    },
    {
     "name": "stdout",
     "output_type": "stream",
     "text": [
      "Cannot be divided\n"
     ]
    }
   ],
   "source": [
    "# instead of ignoring the error ,try to rectify the error. We will write the name of 'exception' in the 'except'\n",
    "# But for particularly handling the error, \n",
    "\n",
    "# we have to give name to the exception.\n",
    "# if we individually want to resolve an exception, we have to give its name.\n",
    "\n",
    "\n",
    "num1=input(\"Enter a no :\")\n",
    "num2=input(\"Enter a no :\")\n",
    "try:\n",
    "    result=int(num1)/int(num2)  #error will be thrown from here.Error created from here.Mention 'int' here.\n",
    "    print(result)\n",
    "except ValueError:                  #all the exceptions included\n",
    "    print(\"Cannot be divided\")\n",
    "    \n",
    "#     here we have mentioned the error that we wanted to resolve."
   ]
  },
  {
   "cell_type": "code",
   "execution_count": 50,
   "id": "46b5617f",
   "metadata": {},
   "outputs": [
    {
     "name": "stdin",
     "output_type": "stream",
     "text": [
      "Enter a no : 70\n",
      "Enter a no : c\n"
     ]
    },
    {
     "name": "stdout",
     "output_type": "stream",
     "text": [
      "Cannot be divided\n"
     ]
    }
   ],
   "source": [
    "num1=input(\"Enter a no :\")\n",
    "num2=input(\"Enter a no :\")\n",
    "try:\n",
    "    result=int(num1)/int(num2)  \n",
    "    print(result)\n",
    "except (ValueError,ZeroDivisionError):                  #in case we have two errors\n",
    "    print(\"Cannot be divided\")"
   ]
  },
  {
   "cell_type": "code",
   "execution_count": 51,
   "id": "632b3cf5",
   "metadata": {},
   "outputs": [
    {
     "name": "stdin",
     "output_type": "stream",
     "text": [
      "Enter a no : 98\n",
      "Enter a no : 3\n"
     ]
    },
    {
     "name": "stdout",
     "output_type": "stream",
     "text": [
      "32.666666666666664\n"
     ]
    }
   ],
   "source": [
    "num1=input(\"Enter a no :\")\n",
    "num2=input(\"Enter a no :\")\n",
    "try:\n",
    "    result=int(num1)/int(num2)  \n",
    "    print(result)\n",
    "except ValueError:                  #in case we have two errors\n",
    "    print(\"Cannot be divided\")\n",
    "except ZeroDivisionError:\n",
    "    print(\"Cannot be divided\")\n",
    "    "
   ]
  },
  {
   "cell_type": "code",
   "execution_count": 53,
   "id": "107a8deb",
   "metadata": {},
   "outputs": [
    {
     "name": "stdin",
     "output_type": "stream",
     "text": [
      "Enter a no : 34\n",
      "Enter a no : 2\n"
     ]
    },
    {
     "name": "stdout",
     "output_type": "stream",
     "text": [
      "17.0\n",
      "Result obtained\n"
     ]
    }
   ],
   "source": [
    "num1=input(\"Enter a no :\")\n",
    "num2=input(\"Enter a no :\")\n",
    "try:               \n",
    "    result=int(num1)/int(num2)  \n",
    "    print(result)\n",
    "except (ValueError,ZeroDivisionError):                  #in case we have two errors\n",
    "    print(\"Cannot be divided\")\n",
    "else: \n",
    "    print(\"Result obtained\")\n",
    "                                         #else can be executed only when try will be executed successfully otherwise\n",
    "#it goes to 'else' and blocks.'else' does not works with except.\n",
    "               "
   ]
  },
  {
   "cell_type": "code",
   "execution_count": 54,
   "id": "78720a79",
   "metadata": {},
   "outputs": [],
   "source": [
    "# finally - It executes after either 'try' or 'catch'."
   ]
  },
  {
   "cell_type": "code",
   "execution_count": 56,
   "id": "930864fb",
   "metadata": {},
   "outputs": [
    {
     "name": "stdin",
     "output_type": "stream",
     "text": [
      "Enter a no : 34\n",
      "Enter a no : s\n"
     ]
    },
    {
     "name": "stdout",
     "output_type": "stream",
     "text": [
      "Cannot be divided\n",
      "Operation Successful\n"
     ]
    }
   ],
   "source": [
    "num1=input(\"Enter a no :\")\n",
    "num2=input(\"Enter a no :\")\n",
    "try:               \n",
    "    result=int(num1)/int(num2)  \n",
    "    print(result)\n",
    "except (ValueError,ZeroDivisionError):                  \n",
    "    print(\"Cannot be divided\")\n",
    "else: \n",
    "    print(\"Result obtained\")\n",
    "finally:                                           #either 'try' or 'except', 'finally' works for both the cases.\n",
    "    print(\"Operation Successful\")\n",
    "                            "
   ]
  },
  {
   "cell_type": "code",
   "execution_count": 57,
   "id": "11029be7",
   "metadata": {},
   "outputs": [
    {
     "name": "stdin",
     "output_type": "stream",
     "text": [
      "Enter a no : 23\n",
      "Enter a no : 2\n"
     ]
    },
    {
     "name": "stdout",
     "output_type": "stream",
     "text": [
      "11.5\n"
     ]
    }
   ],
   "source": [
    "# exception as 'e'\n",
    "\n",
    "num1=input(\"Enter a no :\")\n",
    "num2=input(\"Enter a no :\")\n",
    "try:               \n",
    "    result=int(num1)/int(num2)  \n",
    "    print(result)\n",
    "except Exception as e :\n",
    "    print(\"Exception name:\",e)"
   ]
  }
 ],
 "metadata": {
  "kernelspec": {
   "display_name": "Python 3 (ipykernel)",
   "language": "python",
   "name": "python3"
  },
  "language_info": {
   "codemirror_mode": {
    "name": "ipython",
    "version": 3
   },
   "file_extension": ".py",
   "mimetype": "text/x-python",
   "name": "python",
   "nbconvert_exporter": "python",
   "pygments_lexer": "ipython3",
   "version": "3.12.4"
  }
 },
 "nbformat": 4,
 "nbformat_minor": 5
}
