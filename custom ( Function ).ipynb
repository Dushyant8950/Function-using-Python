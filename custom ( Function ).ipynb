{
 "cells": [
  {
   "cell_type": "code",
   "execution_count": 1,
   "id": "174a7ecb",
   "metadata": {},
   "outputs": [
    {
     "name": "stdout",
     "output_type": "stream",
     "text": [
      "enter the value of a23\n",
      "enter the value of b54\n",
      "sum= 77\n"
     ]
    }
   ],
   "source": [
    "def data():\n",
    "    a=int(input(\"enter the value of a\"))\n",
    "    b=int(input(\"enter the value of b\"))\n",
    "    s=a+b\n",
    "    print(\"sum=\",s)\n",
    "data()"
   ]
  },
  {
   "cell_type": "code",
   "execution_count": 3,
   "id": "a7242451",
   "metadata": {},
   "outputs": [
    {
     "name": "stdout",
     "output_type": "stream",
     "text": [
      "enter the radius2\n",
      "area= 12.56\n"
     ]
    }
   ],
   "source": [
    "def area(pi,r):\n",
    "    pi=3.14\n",
    "    ar=pi*r*r\n",
    "    print(\"area=\",ar)\n",
    "r=float(input(\"enter the radius\"))\n",
    "area(pi,r)"
   ]
  },
  {
   "cell_type": "code",
   "execution_count": 7,
   "id": "469b9b99",
   "metadata": {},
   "outputs": [
    {
     "name": "stdout",
     "output_type": "stream",
     "text": [
      "sum= 60\n"
     ]
    }
   ],
   "source": [
    "def sum(a,b,c):\n",
    "    s=a+b+c\n",
    "    print(\"sum=\",s)\n",
    "sum(10,20,30)"
   ]
  },
  {
   "cell_type": "code",
   "execution_count": 9,
   "id": "fbc24b81",
   "metadata": {},
   "outputs": [
    {
     "name": "stdout",
     "output_type": "stream",
     "text": [
      "sum= 100\n"
     ]
    }
   ],
   "source": [
    "def sum(*a):\n",
    "    s=0\n",
    "    for i in a:\n",
    "        s=s+i\n",
    "    print(\"sum=\",s)\n",
    "sum(10,20,30,40)       "
   ]
  },
  {
   "cell_type": "code",
   "execution_count": 14,
   "id": "6084e101",
   "metadata": {},
   "outputs": [
    {
     "name": "stdout",
     "output_type": "stream",
     "text": [
      "Enter the value of mass=23\n",
      "Enter the value of velocity=34\n",
      "Kinetic Energy= 13294.0\n"
     ]
    }
   ],
   "source": [
    "def KE(m,v):\n",
    "    KE=(m*v*v)/2\n",
    "    print(\"Kinetic Energy=\",KE)\n",
    "m=float(input(\"Enter the value of mass=\"))\n",
    "v=float(input(\"Enter the value of velocity=\"))\n",
    "KE(m,v)"
   ]
  },
  {
   "cell_type": "code",
   "execution_count": 13,
   "id": "ef26410c",
   "metadata": {},
   "outputs": [
    {
     "name": "stdout",
     "output_type": "stream",
     "text": [
      "Enter the value of principle=34\n",
      "Enter rate=345\n",
      "Enter time=23\n",
      "Simple Interest= 2697.9\n"
     ]
    }
   ],
   "source": [
    "def SI(p,r,t):\n",
    "    SI=(p*r*t)/100\n",
    "    print(\"Simple Interest=\",SI)\n",
    "p=float(input(\"Enter the value of principle=\"))\n",
    "r=float(input(\"Enter rate=\"))\n",
    "t=float(input(\"Enter time=\"))\n",
    "SI(p,r,t)"
   ]
  },
  {
   "cell_type": "code",
   "execution_count": 23,
   "id": "89769492",
   "metadata": {},
   "outputs": [
    {
     "name": "stdout",
     "output_type": "stream",
     "text": [
      "Enter a=23\n",
      "Enter b=34\n",
      "Vlaue of a= 34\n",
      "Vlaue of b= 23\n"
     ]
    }
   ],
   "source": [
    "def swipe(a,b):\n",
    "    temp=a\n",
    "    a=b\n",
    "    b=temp\n",
    "    print(\"Vlaue of a=\",a)\n",
    "    print(\"Vlaue of b=\",b)\n",
    "a=int(input(\"Enter a=\"))\n",
    "b=int(input(\"Enter b=\"))\n",
    "swipe(a,b)"
   ]
  },
  {
   "cell_type": "code",
   "execution_count": 34,
   "id": "d226357b",
   "metadata": {},
   "outputs": [
    {
     "name": "stdout",
     "output_type": "stream",
     "text": [
      "Factorial= 24\n"
     ]
    }
   ],
   "source": [
    "def factorial(a):\n",
    "    fact=1\n",
    "    for i in range(1,a+1):\n",
    "        fact=fact*i\n",
    "    print(\"Factorial=\",fact)\n",
    "factorial(4)"
   ]
  }
 ],
 "metadata": {
  "kernelspec": {
   "display_name": "Python 3 (ipykernel)",
   "language": "python",
   "name": "python3"
  },
  "language_info": {
   "codemirror_mode": {
    "name": "ipython",
    "version": 3
   },
   "file_extension": ".py",
   "mimetype": "text/x-python",
   "name": "python",
   "nbconvert_exporter": "python",
   "pygments_lexer": "ipython3",
   "version": "3.11.5"
  }
 },
 "nbformat": 4,
 "nbformat_minor": 5
}
