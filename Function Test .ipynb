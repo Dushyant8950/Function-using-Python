{
 "cells": [
  {
   "cell_type": "markdown",
   "id": "30a13e45",
   "metadata": {},
   "source": [
    "# Write a   function to find the maximum of three numbers."
   ]
  },
  {
   "cell_type": "code",
   "execution_count": 9,
   "id": "bca89867",
   "metadata": {},
   "outputs": [
    {
     "name": "stdout",
     "output_type": "stream",
     "text": [
      "values are 23 , 56 , 12 and the maximum_value is : 56\n"
     ]
    }
   ],
   "source": [
    "def max_number(a,b,c):\n",
    "    return max(a,b,c)\n",
    "num1=23\n",
    "num2=56\n",
    "num3=12\n",
    "maximum_value=max_number(num1,num2,num3)\n",
    "print(\"values are\",num1,\",\",num2,\",\",num3, \"and the maximum_value is :\",maximum_value)"
   ]
  },
  {
   "cell_type": "markdown",
   "id": "f6b2b9ac",
   "metadata": {},
   "source": [
    "# Write a  function to sum all the numbers in a list."
   ]
  },
  {
   "cell_type": "code",
   "execution_count": 18,
   "id": "469925ce",
   "metadata": {},
   "outputs": [
    {
     "name": "stdout",
     "output_type": "stream",
     "text": [
      "Sum of List : 20\n"
     ]
    }
   ],
   "source": [
    "def sum(List):\n",
    "    total=0\n",
    "    for i in List:\n",
    "        total = total + i\n",
    "    return total \n",
    "List=[8,2,3,0,7]\n",
    "print(\"Sum of List :\",sum(List))"
   ]
  },
  {
   "cell_type": "markdown",
   "id": "99ceeda8",
   "metadata": {},
   "source": [
    "# Write a   function to multiply all the numbers in a list."
   ]
  },
  {
   "cell_type": "code",
   "execution_count": 19,
   "id": "13f91247",
   "metadata": {},
   "outputs": [
    {
     "name": "stdout",
     "output_type": "stream",
     "text": [
      "Multiply of List : -336\n"
     ]
    }
   ],
   "source": [
    "def mul(List):\n",
    "    total=1\n",
    "    for i in List:\n",
    "        total = total * i\n",
    "    return total \n",
    "List=[8, 2, 3, -1, 7]\n",
    "print(\"Multiply of List :\",mul(List))"
   ]
  },
  {
   "cell_type": "markdown",
   "id": "efbbb4ab",
   "metadata": {},
   "source": [
    "# Write a  program to reverse a string."
   ]
  },
  {
   "cell_type": "code",
   "execution_count": 25,
   "id": "53edddec",
   "metadata": {},
   "outputs": [
    {
     "name": "stdout",
     "output_type": "stream",
     "text": [
      "dcba4321\n"
     ]
    }
   ],
   "source": [
    "def reverse(s):\n",
    "    return s[::-1]\n",
    "string=\"1234abcd\"\n",
    "print(reverse(string))"
   ]
  },
  {
   "cell_type": "markdown",
   "id": "30c45e0b",
   "metadata": {},
   "source": [
    "# Write a  function to calculate the factorial of a number."
   ]
  },
  {
   "cell_type": "code",
   "execution_count": 39,
   "id": "b39b6e0a",
   "metadata": {},
   "outputs": [
    {
     "name": "stdout",
     "output_type": "stream",
     "text": [
      "120\n"
     ]
    }
   ],
   "source": [
    "def factorial(n):\n",
    "    if n<0:\n",
    "        return \"Factorial is not define for negaive integers\"\n",
    "    result = 1\n",
    "    for i in range(1,n+1):\n",
    "        result = result * i\n",
    "    return result\n",
    "n = 5\n",
    "print(factorial(n))"
   ]
  },
  {
   "cell_type": "markdown",
   "id": "cf314498",
   "metadata": {},
   "source": [
    "# Write a function to check whether a number falls within a given range."
   ]
  },
  {
   "cell_type": "code",
   "execution_count": 44,
   "id": "8307ea37",
   "metadata": {},
   "outputs": [
    {
     "name": "stdout",
     "output_type": "stream",
     "text": [
      "enter a number :20\n",
      "enter a starting number :10\n",
      "enter a ending number :30\n",
      "True\n"
     ]
    }
   ],
   "source": [
    "def range(number , start, end):\n",
    "    return start <= number <= end\n",
    "number=int(input(\"enter a number :\"))\n",
    "start=int(input(\"enter a starting number :\"))\n",
    "end=int(input(\"enter a ending number :\"))\n",
    "print(range(number, start, end))"
   ]
  },
  {
   "cell_type": "markdown",
   "id": "0f6b46a2",
   "metadata": {},
   "source": [
    "# Write a  function that accepts a string and counts the number of upper and lower case letters."
   ]
  },
  {
   "cell_type": "code",
   "execution_count": 52,
   "id": "7a49734c",
   "metadata": {},
   "outputs": [
    {
     "name": "stdout",
     "output_type": "stream",
     "text": [
      "Uppercase letters : {3} Lowercase letters : {12}\n"
     ]
    }
   ],
   "source": [
    "def count(string):\n",
    "    upper=0\n",
    "    lower=0\n",
    "    for char in string:\n",
    "        if char.isupper():\n",
    "            upper+=1\n",
    "        elif char.islower():\n",
    "            lower+=1\n",
    "    return upper, lower\n",
    "string = 'The quick Brow Fox'\n",
    "upper, lower = count(string)\n",
    "print(\"Uppercase letters :\",{upper}, \"Lowercase letters :\",{lower})"
   ]
  },
  {
   "cell_type": "markdown",
   "id": "cdd05cd8",
   "metadata": {},
   "source": [
    "# Write a   function that takes a list and returns a new list with distinct elements from the first list."
   ]
  },
  {
   "cell_type": "code",
   "execution_count": 61,
   "id": "276085af",
   "metadata": {},
   "outputs": [
    {
     "name": "stdout",
     "output_type": "stream",
     "text": [
      "new_List [1, 2, 3, 4, 5]\n"
     ]
    }
   ],
   "source": [
    "def unique(List):\n",
    "    return list(set(List))\n",
    "List=[1,2,3,3,3,3,4,5]\n",
    "new_List=unique(List)\n",
    "print(\"new_List\",new_List)"
   ]
  },
  {
   "cell_type": "markdown",
   "id": "3b7a5284",
   "metadata": {},
   "source": [
    "# Write a   program to print the even numbers from a given list."
   ]
  },
  {
   "cell_type": "code",
   "execution_count": 1,
   "id": "475364da",
   "metadata": {},
   "outputs": [
    {
     "name": "stdout",
     "output_type": "stream",
     "text": [
      "2\n",
      "4\n",
      "6\n",
      "8\n"
     ]
    }
   ],
   "source": [
    "def even(List):\n",
    "    for i in List:\n",
    "        if i % 2 == 0:\n",
    "            print(i)\n",
    "List=[1, 2, 3, 4, 5, 6, 7, 8, 9]\n",
    "even(List)"
   ]
  },
  {
   "cell_type": "markdown",
   "id": "bdc81c0a",
   "metadata": {},
   "source": [
    "# Write a   function to check whether a number is \"Perfect\" or not."
   ]
  },
  {
   "cell_type": "code",
   "execution_count": 2,
   "id": "77a77653",
   "metadata": {},
   "outputs": [
    {
     "name": "stdout",
     "output_type": "stream",
     "text": [
      "enter the value of n :28\n",
      "number is perfect\n"
     ]
    }
   ],
   "source": [
    "def perfect(i,n):\n",
    "    s=0\n",
    "    while(i<n):\n",
    "        if(n%i==0):\n",
    "            s=s+i\n",
    "        i=i+1\n",
    "    if(s==n):\n",
    "        print(\"number is perfect\")\n",
    "    else:\n",
    "        print(\"number is not perfect\")\n",
    "n=int(input(\"enter the value of n :\"))\n",
    "perfect(1,n)"
   ]
  },
  {
   "cell_type": "markdown",
   "id": "11bc5a09",
   "metadata": {},
   "source": [
    "# Write a   function that checks whether a passed string is a palindrome or not."
   ]
  },
  {
   "cell_type": "code",
   "execution_count": 3,
   "id": "dc60281e",
   "metadata": {},
   "outputs": [
    {
     "name": "stdout",
     "output_type": "stream",
     "text": [
      "enter n :123\n",
      "Number is not Palindrome\n"
     ]
    }
   ],
   "source": [
    "def palindrome(n):\n",
    "    r=0\n",
    "    rev=0\n",
    "    t=n\n",
    "    while(n!=0):\n",
    "        r=n%10\n",
    "        rev=(rev*10)+r\n",
    "        n=int(n/10)\n",
    "    if(rev==t):\n",
    "        print(\"Number is Panlindrome\")\n",
    "    else:\n",
    "        print(\"Number is not Palindrome\")\n",
    "n=int(input(\"enter n :\"))\n",
    "palindrome(n)"
   ]
  },
  {
   "cell_type": "markdown",
   "id": "c02ca7d7",
   "metadata": {},
   "source": [
    "# Write a   function that prints out the first n rows of Pascal's triangle."
   ]
  },
  {
   "cell_type": "code",
   "execution_count": 6,
   "id": "968a37ea",
   "metadata": {},
   "outputs": [
    {
     "name": "stdout",
     "output_type": "stream",
     "text": [
      "enter the value of n :5\n",
      "[1]\n",
      "[1, 1]\n",
      "[1, 2, 1]\n",
      "[1, 3, 3, 1]\n",
      "[1, 4, 6, 4, 1]\n"
     ]
    }
   ],
   "source": [
    "def pascals(n):\n",
    "    for i in range (n):\n",
    "        row=[1]\n",
    "        if i > 0:\n",
    "            for j in range(1,i):\n",
    "                row.append(prow[j-1] + prow[j])\n",
    "            row.append(1)\n",
    "        prow = row \n",
    "        print(row)\n",
    "n=int(input(\"enter the value of n :\"))\n",
    "pascals(n)"
   ]
  },
  {
   "cell_type": "markdown",
   "id": "212f0955",
   "metadata": {},
   "source": [
    "# Write a  function to check whether a string is a pangram or not."
   ]
  },
  {
   "cell_type": "code",
   "execution_count": 16,
   "id": "bed4b3da",
   "metadata": {},
   "outputs": [
    {
     "name": "stdout",
     "output_type": "stream",
     "text": [
      "enter string :The quick brown fox jumps over the lazy dog\n",
      "True\n"
     ]
    }
   ],
   "source": [
    "def pangram(s):\n",
    "    s = s.lower()\n",
    "    alphabet_set = set(string.ascii_lowercase)\n",
    "    return alphabet_set.issubset(set(s))\n",
    "s=input(\"enter string :\") #The quick brown fox jumps over the lazy dog\n",
    "print(pangram(s))"
   ]
  },
  {
   "cell_type": "markdown",
   "id": "d8411f20",
   "metadata": {},
   "source": [
    "# Write a   function to create and print a list where the values are the squares of numbers between 1 and 30 "
   ]
  },
  {
   "cell_type": "code",
   "execution_count": 19,
   "id": "1a1271dc",
   "metadata": {},
   "outputs": [
    {
     "name": "stdout",
     "output_type": "stream",
     "text": [
      "1\n",
      "4\n",
      "9\n",
      "16\n",
      "25\n",
      "36\n",
      "49\n",
      "64\n",
      "81\n",
      "100\n",
      "121\n",
      "144\n",
      "169\n",
      "196\n",
      "225\n",
      "256\n",
      "289\n",
      "324\n",
      "361\n",
      "400\n",
      "441\n",
      "484\n",
      "529\n",
      "576\n",
      "625\n",
      "676\n",
      "729\n",
      "784\n",
      "841\n",
      "900\n"
     ]
    }
   ],
   "source": [
    "def squares():\n",
    "    for i in range (1,31):\n",
    "        square = i * i\n",
    "        print(square)\n",
    "squares()"
   ]
  },
  {
   "cell_type": "markdown",
   "id": "2380228f",
   "metadata": {},
   "source": [
    "# Write a  program to access a function inside a function."
   ]
  },
  {
   "cell_type": "code",
   "execution_count": 24,
   "id": "97ae88b9",
   "metadata": {},
   "outputs": [
    {
     "name": "stdout",
     "output_type": "stream",
     "text": [
      "Hi, I am Dushyant Bhardwaj.\n"
     ]
    }
   ],
   "source": [
    "def outer_func():\n",
    "    def inner_func():\n",
    "        print(\"Hi, I am Dushyant Bhardwaj.\")\n",
    "    inner_func()\n",
    "outer_func()"
   ]
  },
  {
   "cell_type": "markdown",
   "id": "962b4016",
   "metadata": {},
   "source": [
    "# Write a   function that prints out the first n rows of Pascal's triangle. "
   ]
  },
  {
   "cell_type": "code",
   "execution_count": 23,
   "id": "51cfd129",
   "metadata": {},
   "outputs": [
    {
     "name": "stdout",
     "output_type": "stream",
     "text": [
      "[1]\n",
      "[1, 1]\n",
      "[1, 2, 1]\n",
      "[1, 3, 3, 1]\n",
      "[1, 4, 6, 4, 1]\n",
      "True\n"
     ]
    }
   ],
   "source": [
    "def p_tringle(n):\n",
    "    tr=[1]\n",
    "    y=[0]\n",
    "    for x in range(max(n,0)):\n",
    "        print(tr)\n",
    "        tr=[l+r for l, r in zip(tr+y,y+tr)]\n",
    "    return n>=1\n",
    "print(p_tringle(5))"
   ]
  },
  {
   "cell_type": "markdown",
   "id": "4afcd800",
   "metadata": {},
   "source": [
    "# Write a  program to execute a string containing."
   ]
  },
  {
   "cell_type": "code",
   "execution_count": 24,
   "id": "409ef210",
   "metadata": {},
   "outputs": [
    {
     "name": "stdout",
     "output_type": "stream",
     "text": [
      "hello dear your welcome in onetick technololgy\n",
      "multiplication of 4 and 5 is: 20\n"
     ]
    }
   ],
   "source": [
    "mcode='print(\"hello dear your welcome in onetick technololgy\")'\n",
    "c=\"\"\"\n",
    "def multi(x,y):\n",
    "    return x*y\n",
    "print('multiplication of 4 and 5 is:',multi(4,5))\n",
    "\"\"\"\n",
    "exec(mcode)\n",
    "exec(c)"
   ]
  },
  {
   "cell_type": "markdown",
   "id": "72aae382",
   "metadata": {},
   "source": [
    "# Write a  program to create a chain of function decorators (bold, italic, underline etc.)."
   ]
  },
  {
   "cell_type": "code",
   "execution_count": 15,
   "id": "a792cd64",
   "metadata": {},
   "outputs": [
    {
     "name": "stdout",
     "output_type": "stream",
     "text": [
      "<function mbold.<locals>.Wrapped at 0x000002349E07AD40>\n"
     ]
    }
   ],
   "source": [
    "def mbold(fn):\n",
    "    def Wrapped():\n",
    "        return \"<b>\"+ fn() +\"</b>\"\n",
    "    return Wrapped;\n",
    "def data():\n",
    "    return \"onetick technlogly\"\n",
    "\n",
    "print(str(mbold(data)))"
   ]
  },
  {
   "cell_type": "markdown",
   "id": "b584f374",
   "metadata": {},
   "source": [
    "# Write a   program that accepts a hyphen-separated sequence of words as input and prints the words in a hyphen-separated sequence after sorting them alphabetically."
   ]
  },
  {
   "cell_type": "code",
   "execution_count": 21,
   "id": "ab800c93",
   "metadata": {},
   "outputs": [
    {
     "name": "stdout",
     "output_type": "stream",
     "text": [
      "green-red-yellow-black-white\n",
      "black-green-red-white-yellow\n"
     ]
    }
   ],
   "source": [
    "text=[n for n in input().split('-')]\n",
    "text.sort()\n",
    "print('-'.join(text))"
   ]
  },
  {
   "cell_type": "code",
   "execution_count": null,
   "id": "6b0b4c81",
   "metadata": {},
   "outputs": [],
   "source": []
  }
 ],
 "metadata": {
  "kernelspec": {
   "display_name": "Python 3 (ipykernel)",
   "language": "python",
   "name": "python3"
  },
  "language_info": {
   "codemirror_mode": {
    "name": "ipython",
    "version": 3
   },
   "file_extension": ".py",
   "mimetype": "text/x-python",
   "name": "python",
   "nbconvert_exporter": "python",
   "pygments_lexer": "ipython3",
   "version": "3.11.5"
  }
 },
 "nbformat": 4,
 "nbformat_minor": 5
}
